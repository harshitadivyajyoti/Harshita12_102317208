{
  "nbformat": 4,
  "nbformat_minor": 0,
  "metadata": {
    "colab": {
      "provenance": []
    },
    "kernelspec": {
      "name": "python3",
      "display_name": "Python 3"
    },
    "language_info": {
      "name": "python"
    }
  },
  "cells": [
    {
      "cell_type": "code",
      "source": [
        "from chatterbot import ChatBot\n",
        "from chatterbot.trainers import ListTrainer\n",
        "\n",
        "print(\"ChatterBot is working on Colab!\")"
      ],
      "metadata": {
        "colab": {
          "base_uri": "https://localhost:8080/"
        },
        "id": "UFq1ZF1bUrNG",
        "outputId": "62cf23ca-6e58-416e-8e2d-4ca2a768b114"
      },
      "execution_count": 1,
      "outputs": [
        {
          "output_type": "stream",
          "name": "stdout",
          "text": [
            "ChatterBot is working on Colab!\n"
          ]
        }
      ]
    },
    {
      "cell_type": "code",
      "source": [
        "healthbot = ChatBot(\n",
        "    \"HealthBot\",\n",
        "    read_only=True,\n",
        "    logic_adapters=[\n",
        "        \"chatterbot.logic.BestMatch\",\n",
        "        \"chatterbot.logic.MathematicalEvaluation\"\n",
        "    ]\n",
        ")"
      ],
      "metadata": {
        "id": "zTnoJmmxUwZD"
      },
      "execution_count": 2,
      "outputs": []
    },
    {
      "cell_type": "code",
      "source": [
        "trainer = ListTrainer(healthbot)\n",
        "conversations = [\n",
        "    'Hi',\n",
        "    'Hello! I am HealthBot. How can I assist you today?',\n",
        "    'Hello',\n",
        "    'Hi! Do you have a health-related question?',\n",
        "    'I have a headache',\n",
        "    'You should rest, stay hydrated, and take a mild pain reliever if needed.',\n",
        "    'What should I do if I have a fever?',\n",
        "    'Drink plenty of fluids and rest. If the fever persists, please consult a doctor.',\n",
        "    'I feel dizzy',\n",
        "    'Sit down, breathe deeply, and drink water. If it continues, seek medical help.',\n",
        "    'What should I eat for a cold?',\n",
        "    'Warm fluids, soups, citrus fruits, and light meals help during a cold.',\n",
        "    'How to stay healthy?',\n",
        "    'Eat balanced meals, exercise regularly, stay hydrated, and get enough sleep.',\n",
        "    'What should I do in case of a cut?',\n",
        "    'Clean the wound with water, apply antiseptic, and cover it with a clean bandage.',\n",
        "    'How much water should I drink daily?',\n",
        "    'Generally, 2 to 3 liters per day is recommended, but it varies based on your activity.',\n",
        "    'Thank you',\n",
        "    'You’re welcome! Take care.',\n",
        "    'Bye',\n",
        "    'Goodbye! Stay healthy.'\n",
        "]"
      ],
      "metadata": {
        "id": "FC4Z81zIVD39"
      },
      "execution_count": 3,
      "outputs": []
    },
    {
      "cell_type": "code",
      "source": [
        "trainer.train(conversations)\n",
        "print(\"HealthBot training complete.\")"
      ],
      "metadata": {
        "colab": {
          "base_uri": "https://localhost:8080/"
        },
        "id": "-m8b05rrVKH-",
        "outputId": "e1b0eb2b-be75-4690-c3c7-e8f3a8fbf432"
      },
      "execution_count": 4,
      "outputs": [
        {
          "output_type": "stream",
          "name": "stderr",
          "text": [
            "List Trainer: 22it [00:00, 435.96it/s]"
          ]
        },
        {
          "output_type": "stream",
          "name": "stdout",
          "text": [
            "HealthBot training complete.\n"
          ]
        },
        {
          "output_type": "stream",
          "name": "stderr",
          "text": [
            "\n"
          ]
        }
      ]
    },
    {
      "cell_type": "code",
      "source": [
        "print(\"Ask something to HealthBot (type 'exit' to end):\\n\")\n",
        "\n",
        "while True:\n",
        "    user_input = input(\"You: \")\n",
        "    if user_input.lower() == 'exit':\n",
        "        print(\"HealthBot: Bye! Stay healthy.\")\n",
        "        break\n",
        "    response = healthbot.get_response(user_input)\n",
        "    print(f\"HealthBot: {response}\")\n"
      ],
      "metadata": {
        "colab": {
          "base_uri": "https://localhost:8080/"
        },
        "id": "zP77-Bz7VTXv",
        "outputId": "19a2fc8b-ca92-4589-8dc3-46f30ab28802"
      },
      "execution_count": 5,
      "outputs": [
        {
          "output_type": "stream",
          "name": "stdout",
          "text": [
            "Ask something to HealthBot (type 'exit' to end):\n",
            "\n",
            "You: what should i do if i have fever\n",
            "HealthBot: Drink plenty of fluids and rest. If the fever persists, please consult a doctor.\n",
            "You: exit\n",
            "HealthBot: Bye! Stay healthy.\n"
          ]
        }
      ]
    },
    {
      "cell_type": "code",
      "source": [
        "# Install TextBlob (if needed)\n",
        "!pip install textblob\n",
        "import nltk\n",
        "nltk.download('punkt')\n",
        "\n",
        "from textblob import TextBlob\n",
        "\n",
        "print(\"Ask something to HealthBot (type 'exit' to end):\\n\")\n",
        "\n",
        "while True:\n",
        "    user_input = input(\"You: \")\n",
        "    if user_input.lower() == 'exit':\n",
        "        print(\"HealthBot: Bye! Stay healthy.\")\n",
        "        break\n",
        "\n",
        "    # Analyze sentiment\n",
        "    blob = TextBlob(user_input)\n",
        "    polarity = blob.sentiment.polarity\n",
        "\n",
        "    # Add empathetic response based on sentiment\n",
        "    if polarity < -0.3:\n",
        "        prefix = \"I'm sorry you're feeling that way. \"\n",
        "    elif polarity > 0.3:\n",
        "        prefix = \"That's great to hear! \"\n",
        "    else:\n",
        "        prefix = \"\"\n",
        "\n",
        "    # Get chatbot reply\n",
        "    response = healthbot.get_response(user_input)\n",
        "\n",
        "    print(f\"HealthBot: {prefix}{response}\")\n"
      ],
      "metadata": {
        "colab": {
          "base_uri": "https://localhost:8080/"
        },
        "id": "J5rHiEucVa7m",
        "outputId": "0501fa64-13ce-461d-e027-de197e2e4c57"
      },
      "execution_count": 8,
      "outputs": [
        {
          "output_type": "stream",
          "name": "stdout",
          "text": [
            "Requirement already satisfied: textblob in /usr/local/lib/python3.11/dist-packages (0.19.0)\n",
            "Requirement already satisfied: nltk>=3.9 in /usr/local/lib/python3.11/dist-packages (from textblob) (3.9.1)\n",
            "Requirement already satisfied: click in /usr/local/lib/python3.11/dist-packages (from nltk>=3.9->textblob) (8.1.8)\n",
            "Requirement already satisfied: joblib in /usr/local/lib/python3.11/dist-packages (from nltk>=3.9->textblob) (1.4.2)\n",
            "Requirement already satisfied: regex>=2021.8.3 in /usr/local/lib/python3.11/dist-packages (from nltk>=3.9->textblob) (2024.11.6)\n",
            "Requirement already satisfied: tqdm in /usr/local/lib/python3.11/dist-packages (from nltk>=3.9->textblob) (4.67.1)\n"
          ]
        },
        {
          "output_type": "stream",
          "name": "stderr",
          "text": [
            "[nltk_data] Downloading package punkt to /root/nltk_data...\n",
            "[nltk_data]   Package punkt is already up-to-date!\n"
          ]
        },
        {
          "output_type": "stream",
          "name": "stdout",
          "text": [
            "Ask something to HealthBot (type 'exit' to end):\n",
            "\n",
            "You: i feel dizzy\n",
            "HealthBot: Sit down, breathe deeply, and drink water. If it continues, seek medical help.\n",
            "You: and severe headache\n",
            "HealthBot: Thank you\n",
            "You: what should i do\n",
            "HealthBot: Drink plenty of fluids and rest. If the fever persists, please consult a doctor.\n",
            "You: exit\n",
            "HealthBot: Bye! Stay healthy.\n"
          ]
        }
      ]
    }
  ]
}